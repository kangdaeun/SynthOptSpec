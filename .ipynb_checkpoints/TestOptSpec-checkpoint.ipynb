{
 "cells": [
  {
   "cell_type": "markdown",
   "metadata": {},
   "source": [
    "## Test notebook for synthetic stellar spectra comparison with MUSE\n",
    "\n",
    "# Goal\n",
    "Set up a prototype to get a spectrum from a synthetic library, then smooth and resample it at the correct MUSE resolution"
   ]
  },
  {
   "cell_type": "code",
   "execution_count": 1,
   "metadata": {},
   "outputs": [],
   "source": [
    "import numpy as np\n",
    "import matplotlib.pyplot as plt\n",
    "import pandas as pd\n",
    "import os\n",
    "\n",
    "%run SynthOptSpec/synspec.py"
   ]
  },
  {
   "cell_type": "markdown",
   "metadata": {},
   "source": [
    "# TODOs\n",
    "This is the list of what remains to be done:\n",
    "- Initial problem: from Spec -> estimate Teff, Logg\n",
    "    - create a training set for Teff, Logg\n",
    "    - basically we convert the full spectral database in a set of smoothed/resampled spectra with Teff, Logg labels\n",
    "    - then we build an interpolator that, given the database, will create a spectrum for any given Teff, Logg pair\n",
    "    - Further complication: include extinction (Av) and accretion veiling (lines?).\n",
    "- Full inversion: from L, Spec -> estimate (M, t):\n",
    "    - Note: for the moment we avoid the problem of extinction? Or shall we include extinction\n",
    "    - interface with the pmstracks module: given (M, t) extract the corresponding L, Teff, Logg\n",
    "    - build a random sampler to create the set of (M, t) for the training set\n",
    "    - organize the sampled spectra in a proper database\n",
    "- Final complication: from (mags, spectra) -> (M, t, Av, Lacc)\n"
   ]
  },
  {
   "cell_type": "code",
   "execution_count": 2,
   "metadata": {},
   "outputs": [],
   "source": [
    "myteff = 4500.\n",
    "def get_spec_file(teff):\n",
    "    teffstr = str(int(teff/100))\n",
    "    if teff<1000.:\n",
    "        teffstr = '00'+teffstr\n",
    "    elif teff<10000.:\n",
    "        teffstr = '0'+teffstr\n",
    "    Z = '0'\n",
    "    LogG = '5'\n",
    "    specfile = 'bt-settl/lte'+teffstr+'-'+LogG+'-'+Z+'a+0.0.BT-NextGen.7.dat.txt'\n",
    "    #specfile = 'testdata/test.dat.txt'\n",
    "    return specfile\n",
    "\n",
    "#R=4000.\n",
    "\n",
    "specfile = get_spec_file(myteff)\n",
    "\n",
    "testpar = {\n",
    "    'file' : specfile,\n",
    "    'wlmin' : 4000.,\n",
    "    'wlmax' : 9800.,\n",
    "    'wledge' : 10.,\n",
    "    'R' : 4000.\n",
    "}\n",
    "#print(testpar['file'])\n",
    "testpar['file'] = 'testdata/test.dat.txt'"
   ]
  },
  {
   "cell_type": "code",
   "execution_count": null,
   "metadata": {},
   "outputs": [],
   "source": [
    "\n",
    "# define spectrum reading the file\n",
    "test = SynSpec(testpar)\n",
    "# smooth to a resolution R\n",
    "test.smoothspec(testpar['R'])\n",
    "# resample\n",
    "wlres = np.arange(4000.,9800.,1.3)\n",
    "test.resample(wlres,smoothed=True)\n",
    "# plot the result\n",
    "test.plotspec(smoothed=True, resampled=True, showedge=True)\n",
    "#plt.plot(test.rswl,test.rsfl,color='g')\n",
    "#plt.plot(test.rswl,test.rssfl,color='cyan')"
   ]
  },
  {
   "cell_type": "code",
   "execution_count": null,
   "metadata": {},
   "outputs": [],
   "source": [
    "#\n",
    "# Define range of gravities\n",
    "# Define range of temperatures per gravity \n",
    "# get-smooth spectra\n",
    "# write out the database \n",
    "\n",
    "# write a script to read the output\n",
    "# Given Logg, Teff, select the two bounding gravities\n",
    "# for each bounding gravity, select teh two binding teff\n",
    "# interpolate for the temperature (for each of the two gravities)\n",
    "# interpolate the two resulting Teff spectra for the proper gravity.\n"
   ]
  },
  {
   "cell_type": "code",
   "execution_count": null,
   "metadata": {},
   "outputs": [],
   "source": []
  }
 ],
 "metadata": {
  "kernelspec": {
   "display_name": "Python 3",
   "language": "python",
   "name": "python3"
  },
  "language_info": {
   "codemirror_mode": {
    "name": "ipython",
    "version": 3
   },
   "file_extension": ".py",
   "mimetype": "text/x-python",
   "name": "python",
   "nbconvert_exporter": "python",
   "pygments_lexer": "ipython3",
   "version": "3.6.6+"
  }
 },
 "nbformat": 4,
 "nbformat_minor": 2
}
